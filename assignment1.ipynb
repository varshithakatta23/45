{
  "nbformat": 4,
  "nbformat_minor": 0,
  "metadata": {
    "colab": {
      "provenance": [],
      "authorship_tag": "ABX9TyObAancRqCayD/YCq9wMa48",
      "include_colab_link": true
    },
    "kernelspec": {
      "name": "python3",
      "display_name": "Python 3"
    },
    "language_info": {
      "name": "python"
    }
  },
  "cells": [
    {
      "cell_type": "markdown",
      "metadata": {
        "id": "view-in-github",
        "colab_type": "text"
      },
      "source": [
        "<a href=\"https://colab.research.google.com/github/varshithakatta23/45/blob/main/assignment1.ipynb\" target=\"_parent\"><img src=\"https://colab.research.google.com/assets/colab-badge.svg\" alt=\"Open In Colab\"/></a>"
      ]
    },
    {
      "cell_type": "markdown",
      "source": [
        "# **Basic Python Fundamentals**"
      ],
      "metadata": {
        "id": "A4p0DatJFncD"
      }
    },
    {
      "cell_type": "code",
      "execution_count": null,
      "metadata": {
        "colab": {
          "base_uri": "https://localhost:8080/"
        },
        "id": "7G3m76PU5cVU",
        "outputId": "cf171f8b-c99b-4366-a7eb-f2be11187200"
      },
      "outputs": [
        {
          "output_type": "stream",
          "name": "stdout",
          "text": [
            "<class 'int'>\n"
          ]
        }
      ],
      "source": [
        "# 1. Write a Python program to declare a variable x with the value 10 and print its type.\n",
        "x=10\n",
        "print(type(x))"
      ]
    },
    {
      "cell_type": "code",
      "source": [
        "# 2.Write a Python program to declare three variables a = 5, b = 10, and c = 15, and print their sum.\n",
        "a=5\n",
        "b=10\n",
        "c=15\n",
        "d=a+b+c\n",
        "print(d)"
      ],
      "metadata": {
        "colab": {
          "base_uri": "https://localhost:8080/"
        },
        "id": "4mkmnG1P9nyr",
        "outputId": "586e9b6d-75f5-43d9-e718-a8294eb1c00f"
      },
      "execution_count": null,
      "outputs": [
        {
          "output_type": "stream",
          "name": "stdout",
          "text": [
            "30\n"
          ]
        }
      ]
    },
    {
      "cell_type": "code",
      "source": [
        "# 3.Write a Python program that checks and prints the type of a variable (e.g., int, float, str, etc.).\n",
        "a=23\n",
        "b=35.8\n",
        "c=\"varshitha\"\n",
        "(print(type(a)))\n",
        "(print(type(b)))\n",
        "(print(type(c)))"
      ],
      "metadata": {
        "colab": {
          "base_uri": "https://localhost:8080/"
        },
        "id": "zxVu9H9i_BZH",
        "outputId": "9a205ee3-9f86-4c32-9192-d9b2ea9bfd17"
      },
      "execution_count": null,
      "outputs": [
        {
          "output_type": "stream",
          "name": "stdout",
          "text": [
            "<class 'int'>\n",
            "<class 'float'>\n",
            "<class 'str'>\n"
          ]
        }
      ]
    },
    {
      "cell_type": "code",
      "source": [
        "# 4. Write a Python program to perform addition, subtraction, multiplication, and division on two numbers. (User input is required for the numbers)\n",
        "a=10\n",
        "b=15\n",
        "print(\"Addition :\", a+b)\n",
        "print(\"Subtraction:\", a-b)\n",
        "print(\"Multiplication:\" ,a*b)\n",
        "print(\"division:\", a/b)\n",
        "print(\"modulus:\", a%b)"
      ],
      "metadata": {
        "colab": {
          "base_uri": "https://localhost:8080/"
        },
        "id": "5FhdLTzU__0p",
        "outputId": "bba37511-a390-4986-b872-b344d81985a0"
      },
      "execution_count": null,
      "outputs": [
        {
          "output_type": "stream",
          "name": "stdout",
          "text": [
            "Addition : 25\n",
            "Subtraction: -5\n",
            "Multiplication: 150\n",
            "division: 0.6666666666666666\n",
            "modulus: 10\n"
          ]
        }
      ]
    },
    {
      "cell_type": "code",
      "source": [
        "# 5. Write a Python program to convert a string \"123\" to an integer and a float and print the results.\n",
        "my_string = \"123\"\n",
        "my_int = int(my_string)\n",
        "type(my_int)\n",
        "my_float = float(my_string)\n",
        "type(my_float)\n"
      ],
      "metadata": {
        "id": "eUtuHrL2BCcr",
        "colab": {
          "base_uri": "https://localhost:8080/"
        },
        "outputId": "d67f5d96-4081-4373-9685-98aa4808cc37"
      },
      "execution_count": null,
      "outputs": [
        {
          "output_type": "execute_result",
          "data": {
            "text/plain": [
              "float"
            ]
          },
          "metadata": {},
          "execution_count": 5
        }
      ]
    },
    {
      "cell_type": "code",
      "source": [
        "# 6. Write a Python program to print the first character of a given string. (User input for the string)\n",
        "def first_char(a):\n",
        "    return a[0]\n",
        "\n",
        "input_string = \"Varshitha\"\n",
        "print(first_char(input_string))"
      ],
      "metadata": {
        "colab": {
          "base_uri": "https://localhost:8080/"
        },
        "id": "D0GcFy6u1zDd",
        "outputId": "3220c710-be73-45eb-d252-545b40313aab"
      },
      "execution_count": null,
      "outputs": [
        {
          "output_type": "stream",
          "name": "stdout",
          "text": [
            "V\n"
          ]
        }
      ]
    },
    {
      "cell_type": "code",
      "source": [
        "# 7.Write a Python program to print the length of a string. (User input for the string)\n",
        "word = \"I AM A STUDENT\"\n",
        "print(len(word))"
      ],
      "metadata": {
        "colab": {
          "base_uri": "https://localhost:8080/"
        },
        "id": "Fq1qHAhU2YTW",
        "outputId": "116e9c1e-1fd1-49d8-895a-34a2e7d05efc"
      },
      "execution_count": null,
      "outputs": [
        {
          "output_type": "stream",
          "name": "stdout",
          "text": [
            "14\n"
          ]
        }
      ]
    },
    {
      "cell_type": "code",
      "source": [
        "#8. Write a Python program to check if a given string contains only alphabets.\n",
        "\n",
        "word_str = \"varshithakatta\"\n",
        "print(word)\n",
        "if word_str.is_alpha:\n",
        "print(\"string contains only alphabets\")\n",
        "else\n",
        "print(\"string does not contain only alphabets\")"
      ],
      "metadata": {
        "colab": {
          "base_uri": "https://localhost:8080/",
          "height": 106
        },
        "id": "Ex9m4uDL29P6",
        "outputId": "c078f4f1-c3e4-47ef-ff3f-403342fcbafb"
      },
      "execution_count": null,
      "outputs": [
        {
          "output_type": "error",
          "ename": "IndentationError",
          "evalue": "expected an indented block after 'if' statement on line 5 (<ipython-input-2-334665edab5f>, line 6)",
          "traceback": [
            "\u001b[0;36m  File \u001b[0;32m\"<ipython-input-2-334665edab5f>\"\u001b[0;36m, line \u001b[0;32m6\u001b[0m\n\u001b[0;31m    print(\"string contains only alphabets\")\u001b[0m\n\u001b[0m    ^\u001b[0m\n\u001b[0;31mIndentationError\u001b[0m\u001b[0;31m:\u001b[0m expected an indented block after 'if' statement on line 5\n"
          ]
        }
      ]
    },
    {
      "cell_type": "code",
      "source": [
        "## 9. Write a Python program to concatenate two strings. (User input for the strings)\n",
        "str1 = \"I'm\"\n",
        "str2 = \"Varshitha K\"\n",
        "result = str1 + \" \" + str2\n",
        "print(result)"
      ],
      "metadata": {
        "colab": {
          "base_uri": "https://localhost:8080/"
        },
        "id": "-ORzLLsHWYN3",
        "outputId": "d2a5c10c-a5f6-47c0-dd40-34dde9f89f6b"
      },
      "execution_count": null,
      "outputs": [
        {
          "output_type": "stream",
          "name": "stdout",
          "text": [
            "I'm Varshitha K\n"
          ]
        }
      ]
    },
    {
      "cell_type": "code",
      "source": [
        "# 10. Write a Python program to find the index of a substring \"abc\" in a string. (User input for the string)\n",
        "s = \"alphabets are abc\"\n",
        "index = s.find(\"abc\")\n",
        "print(index)"
      ],
      "metadata": {
        "colab": {
          "base_uri": "https://localhost:8080/"
        },
        "id": "vTd95i4FWr_o",
        "outputId": "1e1ea393-63b6-4ef6-e2dc-d6b205071917"
      },
      "execution_count": null,
      "outputs": [
        {
          "output_type": "stream",
          "name": "stdout",
          "text": [
            "14\n"
          ]
        }
      ]
    },
    {
      "cell_type": "code",
      "source": [
        "# 11 . Write a Python program to convert a string to both uppercase and lowercase\n",
        "name = \"Varshitha\"\n",
        "name.upper()\n",
        "name.lower()"
      ],
      "metadata": {
        "colab": {
          "base_uri": "https://localhost:8080/",
          "height": 36
        },
        "id": "ScwB9xoRX-Wt",
        "outputId": "c04fc077-824b-44d3-a4da-72cb7a47b5c6"
      },
      "execution_count": null,
      "outputs": [
        {
          "output_type": "execute_result",
          "data": {
            "text/plain": [
              "'varshitha'"
            ],
            "application/vnd.google.colaboratory.intrinsic+json": {
              "type": "string"
            }
          },
          "metadata": {},
          "execution_count": 17
        }
      ]
    },
    {
      "cell_type": "code",
      "source": [
        "# 12. Write a Python program to count how many times a particular character appears in a string.\n",
        "name = \"VARSHITHA KATTA\"\n",
        "name.count(\"A\")"
      ],
      "metadata": {
        "id": "gnDnv0PkaUtx",
        "colab": {
          "base_uri": "https://localhost:8080/"
        },
        "outputId": "fcf53c99-9051-42d1-dac3-5c489089c60e"
      },
      "execution_count": null,
      "outputs": [
        {
          "output_type": "execute_result",
          "data": {
            "text/plain": [
              "4"
            ]
          },
          "metadata": {},
          "execution_count": 19
        }
      ]
    },
    {
      "cell_type": "code",
      "source": [
        "# 13.  Write a Python program to take the user's name as input and print a personalized greeting.\n",
        "name = input(\"Enter your name: \")\n",
        "print(\"Hello, \" + name +  \"Good Morning.\")"
      ],
      "metadata": {
        "colab": {
          "base_uri": "https://localhost:8080/"
        },
        "id": "uenBrnOxvc7s",
        "outputId": "bbfeb8f0-fa9d-408d-d8bd-73f8c2ebca4a"
      },
      "execution_count": null,
      "outputs": [
        {
          "output_type": "stream",
          "name": "stdout",
          "text": [
            "Enter your name: varshitha\n",
            "Hello, varshithaGood Morning.\n"
          ]
        }
      ]
    },
    {
      "cell_type": "code",
      "source": [
        "# 14. Write a Python program to take two numbers as input and print their sum.\n",
        "num1 = int(input(\"Enter the first number: \"))\n",
        "num2 = int(input(\"Enter the second number: \"))\n",
        "sum = num1 + num2\n",
        "print(\"The sum of\", num1, \"and\", num2, \"is\", sum)"
      ],
      "metadata": {
        "colab": {
          "base_uri": "https://localhost:8080/"
        },
        "id": "5xHCsNmewEOA",
        "outputId": "e26a637a-c09c-4fbd-9060-e32ebca3d67d"
      },
      "execution_count": null,
      "outputs": [
        {
          "output_type": "stream",
          "name": "stdout",
          "text": [
            "Enter the first number: 10\n",
            "Enter the second number: 50\n",
            "The sum of 10 and 50 is 60\n"
          ]
        }
      ]
    },
    {
      "cell_type": "code",
      "source": [
        "# 15.Write a Python program to format and display a string containing the user's name and age.\n",
        "name = input(\"Enter your name: \")\n",
        "age = int(input(\"Enter your age: \"))\n",
        "print(\"I',m {} my age is {} years .\".format(name, age))"
      ],
      "metadata": {
        "colab": {
          "base_uri": "https://localhost:8080/"
        },
        "id": "oO6v_4C82iKd",
        "outputId": "ce4f6ce4-3df3-49d0-f2b3-3a7a412e4231"
      },
      "execution_count": null,
      "outputs": [
        {
          "output_type": "stream",
          "name": "stdout",
          "text": [
            "Enter your name: varshitha\n",
            "Enter your age: 21\n",
            "I',m varshitha my age is 21 years .\n"
          ]
        }
      ]
    },
    {
      "cell_type": "markdown",
      "source": [
        "# ** Control Structures (Conditionals and Loops) **"
      ],
      "metadata": {
        "id": "yVum0v5tFZXP"
      }
    },
    {
      "cell_type": "code",
      "source": [
        "# 16. Write a Python program that takes a number as input and checks whether it is positive, negative, or zero\n",
        "num = int(input(\"Enter a NUMBER: \"))\n",
        "if num > 0:\n",
        "    print(\"The number is POSITIVE(+).\")\n",
        "elif num < 0:\n",
        "    print(\"The number is NEGATIVE(-).\")\n",
        "else:\n",
        "    print(\"The number is ZERO(0).\")"
      ],
      "metadata": {
        "colab": {
          "base_uri": "https://localhost:8080/"
        },
        "id": "kNmDv4DBFiz5",
        "outputId": "b151806f-dd51-4a01-df30-1fdf033007b5"
      },
      "execution_count": 8,
      "outputs": [
        {
          "output_type": "stream",
          "name": "stdout",
          "text": [
            "Enter a NUMBER: 23\n",
            "The number is POSITIVE(+).\n"
          ]
        }
      ]
    },
    {
      "cell_type": "code",
      "source": [
        "# 17.Write a Python program to find the maximum of three numbers.\n",
        "p = int(input(\"Enter first number: \"))\n",
        "q = int(input(\"Enter second number: \"))\n",
        "r = int(input(\"Enter third number: \"))\n",
        "\n",
        "print(\"Maximum of three numbers is:\", max(p, q, r))"
      ],
      "metadata": {
        "colab": {
          "base_uri": "https://localhost:8080/"
        },
        "id": "xgQgXJtPHjAu",
        "outputId": "e2846e7e-4b54-4f8c-ef7f-9a1ae81177e4"
      },
      "execution_count": 10,
      "outputs": [
        {
          "output_type": "stream",
          "name": "stdout",
          "text": [
            "Enter first number: 20\n",
            "Enter second number: 25\n",
            "Enter third number: 98\n",
            "Maximum of three numbers is: 98\n"
          ]
        }
      ]
    },
    {
      "cell_type": "code",
      "source": [
        "#18. Write a Python program to check if a year is a leap year.\n",
        "year = int(input(\"Enter a year: \"))\n",
        "if (year % 400 == 0) and (year % 100 == 0):\n",
        "    print(\"{0} is a leap year\".format(year))\n",
        "elif (year % 4 ==0) and (year % 100 != 0):\n",
        "    print(\"{0} is a leap year\".format(year))\n",
        "else:\n",
        "    print(\"{0} is not a leap year\".format(year))"
      ],
      "metadata": {
        "colab": {
          "base_uri": "https://localhost:8080/"
        },
        "id": "uO8ZD_d9IQbr",
        "outputId": "3a2fe39b-3091-4c0f-aab4-443a06ada989"
      },
      "execution_count": 11,
      "outputs": [
        {
          "output_type": "stream",
          "name": "stdout",
          "text": [
            "Enter a year: 2023\n",
            "2023 is not a leap year\n"
          ]
        }
      ]
    },
    {
      "cell_type": "code",
      "source": [
        "# 19.Write a Python program to check if a number is divisible by both 3 and 5.\n",
        "num = int(input(\"Enter a number: \"))\n",
        "if num % 3 == 0 and num % 5 == 0:\n",
        "    print(\"The number is divisible by both 3 and 5.\")"
      ],
      "metadata": {
        "colab": {
          "base_uri": "https://localhost:8080/"
        },
        "id": "gh8EkMn-JLsQ",
        "outputId": "ccbd84f2-7783-403d-f73f-5f8c4160b608"
      },
      "execution_count": 12,
      "outputs": [
        {
          "output_type": "stream",
          "name": "stdout",
          "text": [
            "Enter a number: 15\n",
            "The number is divisible by both 3 and 5.\n"
          ]
        }
      ]
    },
    {
      "cell_type": "code",
      "source": [
        "# 20. Write a Python program to check if a string is a palindrome\n",
        "string  = input(\"enter a string\")\n",
        "if string == string[::-1]:\n",
        "  print(\"THE STRING IS PALINDROME\")\n",
        "else:\n",
        "  print(\"THE STRTING IS NOT PALINDROME\")"
      ],
      "metadata": {
        "colab": {
          "base_uri": "https://localhost:8080/"
        },
        "id": "EgRSEfQDJWB4",
        "outputId": "ce848d03-60ba-4366-cd8d-3bc5eab8753c"
      },
      "execution_count": 15,
      "outputs": [
        {
          "output_type": "stream",
          "name": "stdout",
          "text": [
            "enter a stringVARSHITHA\n",
            "THE STRTING IS NOT PALINDROME\n"
          ]
        }
      ]
    },
    {
      "cell_type": "code",
      "source": [
        "# 21 . Write a Python program to print numbers from 1 to 10 using a for loop.\n",
        "num = 0\n",
        "for num in range(1,11):\n",
        "    print(num)"
      ],
      "metadata": {
        "colab": {
          "base_uri": "https://localhost:8080/"
        },
        "id": "kOwwaYvyKWGg",
        "outputId": "263b2a45-22a5-4663-daae-2e3b1cc5e66d"
      },
      "execution_count": 18,
      "outputs": [
        {
          "output_type": "stream",
          "name": "stdout",
          "text": [
            "1\n",
            "2\n",
            "3\n",
            "4\n",
            "5\n",
            "6\n",
            "7\n",
            "8\n",
            "9\n",
            "10\n"
          ]
        }
      ]
    },
    {
      "cell_type": "code",
      "source": [
        "# 22.  Write a Python program to print all even numbers from 1 to 20 using a while loop.\n",
        "num = 0\n",
        "while num <= 20:\n",
        "    if num % 2 == 0:\n",
        "        print(num)\n",
        "    num += 1\n",
        "\n",
        ""
      ],
      "metadata": {
        "colab": {
          "base_uri": "https://localhost:8080/"
        },
        "id": "FC72Npk_K2c9",
        "outputId": "e85ee9d8-8195-4e8a-e653-cc4ef4b9589f"
      },
      "execution_count": 24,
      "outputs": [
        {
          "output_type": "stream",
          "name": "stdout",
          "text": [
            "0\n",
            "2\n",
            "4\n",
            "6\n",
            "8\n",
            "10\n",
            "12\n",
            "14\n",
            "16\n",
            "18\n",
            "20\n"
          ]
        }
      ]
    },
    {
      "cell_type": "code",
      "source": [
        "# 23. Write a Python program to print the multiplication table of a given number using a for loop\n",
        "num = int(input(\"Enter a number: \"))\n",
        "for i in range(1, 11):\n",
        "    print(num, \"x\", i, \"=\", num*i)"
      ],
      "metadata": {
        "colab": {
          "base_uri": "https://localhost:8080/"
        },
        "id": "g4c8HFxhLZ4i",
        "outputId": "ce578871-c522-4ae9-8d9d-88e88ddb258c"
      },
      "execution_count": 25,
      "outputs": [
        {
          "output_type": "stream",
          "name": "stdout",
          "text": [
            "Enter a number: 10\n",
            "10 x 1 = 10\n",
            "10 x 2 = 20\n",
            "10 x 3 = 30\n",
            "10 x 4 = 40\n",
            "10 x 5 = 50\n",
            "10 x 6 = 60\n",
            "10 x 7 = 70\n",
            "10 x 8 = 80\n",
            "10 x 9 = 90\n",
            "10 x 10 = 100\n"
          ]
        }
      ]
    },
    {
      "cell_type": "code",
      "source": [
        "# 24 . Write a Python program to calculate the sum of all numbers from 1 to n using a while loop.\n",
        "num = int(input(\"Enter a number: \"))\n",
        "sum = 0\n",
        "i = 1\n",
        "while i <= num:\n",
        "    sum += i\n",
        "    i += 1\n",
        "print(sum)\n",
        "   # sum += i\n",
        "    #i += 1\n",
        "print(\"The sum of all numbers from 1 to\", num, \"is\", sum)"
      ],
      "metadata": {
        "colab": {
          "base_uri": "https://localhost:8080/"
        },
        "id": "OQzmxBPKLqIe",
        "outputId": "86304276-1128-4bf2-ca0f-827125149e76"
      },
      "execution_count": 30,
      "outputs": [
        {
          "output_type": "stream",
          "name": "stdout",
          "text": [
            "Enter a number: 23\n",
            "276\n",
            "The sum of all numbers from 1 to 23 is 276\n"
          ]
        }
      ]
    },
    {
      "cell_type": "code",
      "source": [
        "# 25.Write a Python program to calculate the factorial of a number using a while loop\n",
        "num = int(input(\"enter a number: \"))\n"
      ],
      "metadata": {
        "id": "o68rmYl_Mr7c"
      },
      "execution_count": null,
      "outputs": []
    }
  ]
}