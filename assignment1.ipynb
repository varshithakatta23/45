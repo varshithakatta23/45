{
  "nbformat": 4,
  "nbformat_minor": 0,
  "metadata": {
    "colab": {
      "provenance": [],
      "authorship_tag": "ABX9TyOTwPpZFedFf1MzsASkc3BI",
      "include_colab_link": true
    },
    "kernelspec": {
      "name": "python3",
      "display_name": "Python 3"
    },
    "language_info": {
      "name": "python"
    }
  },
  "cells": [
    {
      "cell_type": "markdown",
      "metadata": {
        "id": "view-in-github",
        "colab_type": "text"
      },
      "source": [
        "<a href=\"https://colab.research.google.com/github/varshithakatta23/45/blob/main/assignment1.ipynb\" target=\"_parent\"><img src=\"https://colab.research.google.com/assets/colab-badge.svg\" alt=\"Open In Colab\"/></a>"
      ]
    },
    {
      "cell_type": "code",
      "execution_count": null,
      "metadata": {
        "colab": {
          "base_uri": "https://localhost:8080/"
        },
        "id": "7G3m76PU5cVU",
        "outputId": "cf171f8b-c99b-4366-a7eb-f2be11187200"
      },
      "outputs": [
        {
          "output_type": "stream",
          "name": "stdout",
          "text": [
            "<class 'int'>\n"
          ]
        }
      ],
      "source": [
        "# Write a Python program to declare a variable x with the value 10 and print its type.\n",
        "x=10\n",
        "print(type(x))"
      ]
    },
    {
      "cell_type": "code",
      "source": [
        "#Write a Python program to declare three variables a = 5, b = 10, and c = 15, and print their sum.\n",
        "a=5\n",
        "b=10\n",
        "c=15\n",
        "d=a+b+c\n",
        "print(d)"
      ],
      "metadata": {
        "colab": {
          "base_uri": "https://localhost:8080/"
        },
        "id": "4mkmnG1P9nyr",
        "outputId": "586e9b6d-75f5-43d9-e718-a8294eb1c00f"
      },
      "execution_count": null,
      "outputs": [
        {
          "output_type": "stream",
          "name": "stdout",
          "text": [
            "30\n"
          ]
        }
      ]
    },
    {
      "cell_type": "code",
      "source": [
        "#Write a Python program that checks and prints the type of a variable (e.g., int, float, str, etc.).\n",
        "a=23\n",
        "b=35.8\n",
        "c=\"varshitha\"\n",
        "(print(type(a)))\n",
        "(print(type(b)))\n",
        "(print(type(c)))"
      ],
      "metadata": {
        "colab": {
          "base_uri": "https://localhost:8080/"
        },
        "id": "zxVu9H9i_BZH",
        "outputId": "9a205ee3-9f86-4c32-9192-d9b2ea9bfd17"
      },
      "execution_count": null,
      "outputs": [
        {
          "output_type": "stream",
          "name": "stdout",
          "text": [
            "<class 'int'>\n",
            "<class 'float'>\n",
            "<class 'str'>\n"
          ]
        }
      ]
    },
    {
      "cell_type": "code",
      "source": [
        "## Write a Python program to perform addition, subtraction, multiplication, and division on two numbers. (User input is required for the numbers)\n",
        "a=10\n",
        "b=15\n",
        "print(\"Addition :\", a+b)\n",
        "print(\"Subtraction:\", a-b)\n",
        "print(\"Multiplication:\" ,a*b)\n",
        "print(\"division:\", a/b)\n",
        "print(\"modulus:\", a%b)"
      ],
      "metadata": {
        "colab": {
          "base_uri": "https://localhost:8080/"
        },
        "id": "5FhdLTzU__0p",
        "outputId": "bba37511-a390-4986-b872-b344d81985a0"
      },
      "execution_count": null,
      "outputs": [
        {
          "output_type": "stream",
          "name": "stdout",
          "text": [
            "Addition : 25\n",
            "Subtraction: -5\n",
            "Multiplication: 150\n",
            "division: 0.6666666666666666\n",
            "modulus: 10\n"
          ]
        }
      ]
    },
    {
      "cell_type": "code",
      "source": [
        "## Write a Python program to convert a string \"123\" to an integer and a float and print the results.\n",
        "my_string = \"123\"\n",
        "my_int = int(my_string)\n",
        "type(my_int)\n",
        "my_float = float(my_string)\n",
        "type(my_float)\n"
      ],
      "metadata": {
        "id": "eUtuHrL2BCcr",
        "colab": {
          "base_uri": "https://localhost:8080/"
        },
        "outputId": "d67f5d96-4081-4373-9685-98aa4808cc37"
      },
      "execution_count": 5,
      "outputs": [
        {
          "output_type": "execute_result",
          "data": {
            "text/plain": [
              "float"
            ]
          },
          "metadata": {},
          "execution_count": 5
        }
      ]
    },
    {
      "cell_type": "code",
      "source": [
        "# Write a Python program to print the first character of a given string. (User input for the string)\n",
        "def first_char(a):\n",
        "    return a[0]\n",
        "\n",
        "input_string = \"Varshitha\"\n",
        "print(first_char(input_string))"
      ],
      "metadata": {
        "colab": {
          "base_uri": "https://localhost:8080/"
        },
        "id": "D0GcFy6u1zDd",
        "outputId": "3220c710-be73-45eb-d252-545b40313aab"
      },
      "execution_count": 7,
      "outputs": [
        {
          "output_type": "stream",
          "name": "stdout",
          "text": [
            "V\n"
          ]
        }
      ]
    }
  ]
}