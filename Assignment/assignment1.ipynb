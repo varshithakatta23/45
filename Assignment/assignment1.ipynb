{
  "nbformat": 4,
  "nbformat_minor": 0,
  "metadata": {
    "colab": {
      "provenance": [],
      "authorship_tag": "ABX9TyNKP4jQEmfHSuajHWP6ur8B",
      "include_colab_link": true
    },
    "kernelspec": {
      "name": "python3",
      "display_name": "Python 3"
    },
    "language_info": {
      "name": "python"
    }
  },
  "cells": [
    {
      "cell_type": "markdown",
      "metadata": {
        "id": "view-in-github",
        "colab_type": "text"
      },
      "source": [
        "<a href=\"https://colab.research.google.com/github/varshithakatta23/45/blob/main/assignment1.ipynb\" target=\"_parent\"><img src=\"https://colab.research.google.com/assets/colab-badge.svg\" alt=\"Open In Colab\"/></a>"
      ]
    },
    {
      "cell_type": "markdown",
      "source": [
        "# **Basic Python Fundamentals**"
      ],
      "metadata": {
        "id": "A4p0DatJFncD"
      }
    },
    {
      "cell_type": "code",
      "execution_count": null,
      "metadata": {
        "colab": {
          "base_uri": "https://localhost:8080/"
        },
        "id": "7G3m76PU5cVU",
        "outputId": "cf171f8b-c99b-4366-a7eb-f2be11187200"
      },
      "outputs": [
        {
          "output_type": "stream",
          "name": "stdout",
          "text": [
            "<class 'int'>\n"
          ]
        }
      ],
      "source": [
        "# 1. Write a Python program to declare a variable x with the value 10 and print its type.\n",
        "x=10\n",
        "print(type(x))"
      ]
    },
    {
      "cell_type": "code",
      "source": [
        "# 2.Write a Python program to declare three variables a = 5, b = 10, and c = 15, and print their sum.\n",
        "a=5\n",
        "b=10\n",
        "c=15\n",
        "d=a+b+c\n",
        "print(d)"
      ],
      "metadata": {
        "colab": {
          "base_uri": "https://localhost:8080/"
        },
        "id": "4mkmnG1P9nyr",
        "outputId": "586e9b6d-75f5-43d9-e718-a8294eb1c00f"
      },
      "execution_count": null,
      "outputs": [
        {
          "output_type": "stream",
          "name": "stdout",
          "text": [
            "30\n"
          ]
        }
      ]
    },
    {
      "cell_type": "code",
      "source": [
        "# 3.Write a Python program that checks and prints the type of a variable (e.g., int, float, str, etc.).\n",
        "a=23\n",
        "b=35.8\n",
        "c=\"varshitha\"\n",
        "(print(type(a)))\n",
        "(print(type(b)))\n",
        "(print(type(c)))"
      ],
      "metadata": {
        "colab": {
          "base_uri": "https://localhost:8080/"
        },
        "id": "zxVu9H9i_BZH",
        "outputId": "9a205ee3-9f86-4c32-9192-d9b2ea9bfd17"
      },
      "execution_count": null,
      "outputs": [
        {
          "output_type": "stream",
          "name": "stdout",
          "text": [
            "<class 'int'>\n",
            "<class 'float'>\n",
            "<class 'str'>\n"
          ]
        }
      ]
    },
    {
      "cell_type": "code",
      "source": [
        "# 4. Write a Python program to perform addition, subtraction, multiplication, and division on two numbers. (User input is required for the numbers)\n",
        "a=10\n",
        "b=15\n",
        "print(\"Addition :\", a+b)\n",
        "print(\"Subtraction:\", a-b)\n",
        "print(\"Multiplication:\" ,a*b)\n",
        "print(\"division:\", a/b)\n",
        "print(\"modulus:\", a%b)"
      ],
      "metadata": {
        "colab": {
          "base_uri": "https://localhost:8080/"
        },
        "id": "5FhdLTzU__0p",
        "outputId": "bba37511-a390-4986-b872-b344d81985a0"
      },
      "execution_count": null,
      "outputs": [
        {
          "output_type": "stream",
          "name": "stdout",
          "text": [
            "Addition : 25\n",
            "Subtraction: -5\n",
            "Multiplication: 150\n",
            "division: 0.6666666666666666\n",
            "modulus: 10\n"
          ]
        }
      ]
    },
    {
      "cell_type": "code",
      "source": [
        "# 5. Write a Python program to convert a string \"123\" to an integer and a float and print the results.\n",
        "my_string = \"123\"\n",
        "my_int = int(my_string)\n",
        "type(my_int)\n",
        "my_float = float(my_string)\n",
        "type(my_float)\n"
      ],
      "metadata": {
        "id": "eUtuHrL2BCcr",
        "colab": {
          "base_uri": "https://localhost:8080/"
        },
        "outputId": "d67f5d96-4081-4373-9685-98aa4808cc37"
      },
      "execution_count": null,
      "outputs": [
        {
          "output_type": "execute_result",
          "data": {
            "text/plain": [
              "float"
            ]
          },
          "metadata": {},
          "execution_count": 5
        }
      ]
    },
    {
      "cell_type": "code",
      "source": [
        "# 6. Write a Python program to print the first character of a given string. (User input for the string)\n",
        "def first_char(a):\n",
        "    return a[0]\n",
        "\n",
        "input_string = \"Varshitha\"\n",
        "print(first_char(input_string))"
      ],
      "metadata": {
        "colab": {
          "base_uri": "https://localhost:8080/"
        },
        "id": "D0GcFy6u1zDd",
        "outputId": "3220c710-be73-45eb-d252-545b40313aab"
      },
      "execution_count": null,
      "outputs": [
        {
          "output_type": "stream",
          "name": "stdout",
          "text": [
            "V\n"
          ]
        }
      ]
    },
    {
      "cell_type": "code",
      "source": [
        "# 7.Write a Python program to print the length of a string. (User input for the string)\n",
        "word = \"I AM A STUDENT\"\n",
        "print(len(word))"
      ],
      "metadata": {
        "colab": {
          "base_uri": "https://localhost:8080/"
        },
        "id": "Fq1qHAhU2YTW",
        "outputId": "116e9c1e-1fd1-49d8-895a-34a2e7d05efc"
      },
      "execution_count": null,
      "outputs": [
        {
          "output_type": "stream",
          "name": "stdout",
          "text": [
            "14\n"
          ]
        }
      ]
    },
    {
      "cell_type": "code",
      "source": [
        "#8. Write a Python program to check if a given string contains only alphabets.\n",
        "word_str = \"varshithakatta\"\n",
        "print(word_str)\n",
        "if word_str.isalpha():  # Added parentheses for isalpha() method call\n",
        "    print(\"string contains only alphabets\")  # Indented print statement under if\n",
        "else:\n",
        "    print(\"string does not contain only alphabets\")  # Indented print statement under else"
      ],
      "metadata": {
        "colab": {
          "base_uri": "https://localhost:8080/"
        },
        "id": "Ex9m4uDL29P6",
        "outputId": "73fc9c68-5184-4f41-83fe-ba7add8a6884"
      },
      "execution_count": null,
      "outputs": [
        {
          "output_type": "stream",
          "name": "stdout",
          "text": [
            "varshithakatta\n",
            "string contains only alphabets\n"
          ]
        }
      ]
    },
    {
      "cell_type": "code",
      "source": [
        "## 9. Write a Python program to concatenate two strings. (User input for the strings)\n",
        "str1 = \"I'm\"\n",
        "str2 = \"Varshitha K\"\n",
        "result = str1 + \" \" + str2\n",
        "print(result)"
      ],
      "metadata": {
        "colab": {
          "base_uri": "https://localhost:8080/"
        },
        "id": "-ORzLLsHWYN3",
        "outputId": "d2a5c10c-a5f6-47c0-dd40-34dde9f89f6b"
      },
      "execution_count": null,
      "outputs": [
        {
          "output_type": "stream",
          "name": "stdout",
          "text": [
            "I'm Varshitha K\n"
          ]
        }
      ]
    },
    {
      "cell_type": "code",
      "source": [
        "# 10. Write a Python program to find the index of a substring \"abc\" in a string. (User input for the string)\n",
        "s = \"alphabets are abc\"\n",
        "index = s.find(\"abc\")\n",
        "print(index)"
      ],
      "metadata": {
        "colab": {
          "base_uri": "https://localhost:8080/"
        },
        "id": "vTd95i4FWr_o",
        "outputId": "1e1ea393-63b6-4ef6-e2dc-d6b205071917"
      },
      "execution_count": null,
      "outputs": [
        {
          "output_type": "stream",
          "name": "stdout",
          "text": [
            "14\n"
          ]
        }
      ]
    },
    {
      "cell_type": "code",
      "source": [
        "# 11 . Write a Python program to convert a string to both uppercase and lowercase\n",
        "name = \"Varshitha\"\n",
        "name.upper()\n",
        "name.lower()"
      ],
      "metadata": {
        "colab": {
          "base_uri": "https://localhost:8080/",
          "height": 36
        },
        "id": "ScwB9xoRX-Wt",
        "outputId": "c04fc077-824b-44d3-a4da-72cb7a47b5c6"
      },
      "execution_count": null,
      "outputs": [
        {
          "output_type": "execute_result",
          "data": {
            "text/plain": [
              "'varshitha'"
            ],
            "application/vnd.google.colaboratory.intrinsic+json": {
              "type": "string"
            }
          },
          "metadata": {},
          "execution_count": 17
        }
      ]
    },
    {
      "cell_type": "code",
      "source": [
        "# 12. Write a Python program to count how many times a particular character appears in a string.\n",
        "name = \"VARSHITHA KATTA\"\n",
        "name.count(\"A\")"
      ],
      "metadata": {
        "id": "gnDnv0PkaUtx",
        "colab": {
          "base_uri": "https://localhost:8080/"
        },
        "outputId": "fcf53c99-9051-42d1-dac3-5c489089c60e"
      },
      "execution_count": null,
      "outputs": [
        {
          "output_type": "execute_result",
          "data": {
            "text/plain": [
              "4"
            ]
          },
          "metadata": {},
          "execution_count": 19
        }
      ]
    },
    {
      "cell_type": "code",
      "source": [
        "# 13.  Write a Python program to take the user's name as input and print a personalized greeting.\n",
        "name = input(\"Enter your name: \")\n",
        "print(\"Hello, \" + name +  \"Good Morning.\")"
      ],
      "metadata": {
        "colab": {
          "base_uri": "https://localhost:8080/"
        },
        "id": "uenBrnOxvc7s",
        "outputId": "bbfeb8f0-fa9d-408d-d8bd-73f8c2ebca4a"
      },
      "execution_count": null,
      "outputs": [
        {
          "output_type": "stream",
          "name": "stdout",
          "text": [
            "Enter your name: varshitha\n",
            "Hello, varshithaGood Morning.\n"
          ]
        }
      ]
    },
    {
      "cell_type": "code",
      "source": [
        "# 14. Write a Python program to take two numbers as input and print their sum.\n",
        "num1 = int(input(\"Enter the first number: \"))\n",
        "num2 = int(input(\"Enter the second number: \"))\n",
        "sum = num1 + num2\n",
        "print(\"The sum of\", num1, \"and\", num2, \"is\", sum)"
      ],
      "metadata": {
        "colab": {
          "base_uri": "https://localhost:8080/"
        },
        "id": "5xHCsNmewEOA",
        "outputId": "e26a637a-c09c-4fbd-9060-e32ebca3d67d"
      },
      "execution_count": null,
      "outputs": [
        {
          "output_type": "stream",
          "name": "stdout",
          "text": [
            "Enter the first number: 10\n",
            "Enter the second number: 50\n",
            "The sum of 10 and 50 is 60\n"
          ]
        }
      ]
    },
    {
      "cell_type": "code",
      "source": [
        "# 15.Write a Python program to format and display a string containing the user's name and age.\n",
        "name = input(\"Enter your name: \")\n",
        "age = int(input(\"Enter your age: \"))\n",
        "print(\"I',m {} my age is {} years .\".format(name, age))"
      ],
      "metadata": {
        "colab": {
          "base_uri": "https://localhost:8080/"
        },
        "id": "oO6v_4C82iKd",
        "outputId": "ce4f6ce4-3df3-49d0-f2b3-3a7a412e4231"
      },
      "execution_count": null,
      "outputs": [
        {
          "output_type": "stream",
          "name": "stdout",
          "text": [
            "Enter your name: varshitha\n",
            "Enter your age: 21\n",
            "I',m varshitha my age is 21 years .\n"
          ]
        }
      ]
    },
    {
      "cell_type": "markdown",
      "source": [
        "# **Control Structures (Conditionals and Loops)**"
      ],
      "metadata": {
        "id": "yVum0v5tFZXP"
      }
    },
    {
      "cell_type": "code",
      "source": [
        "# 16. Write a Python program that takes a number as input and checks whether it is positive, negative, or zero\n",
        "num = int(input(\"Enter a NUMBER: \"))\n",
        "if num > 0:\n",
        "    print(\"The number is POSITIVE(+).\")\n",
        "elif num < 0:\n",
        "    print(\"The number is NEGATIVE(-).\")\n",
        "else:\n",
        "    print(\"The number is ZERO(0).\")"
      ],
      "metadata": {
        "colab": {
          "base_uri": "https://localhost:8080/"
        },
        "id": "kNmDv4DBFiz5",
        "outputId": "b151806f-dd51-4a01-df30-1fdf033007b5"
      },
      "execution_count": null,
      "outputs": [
        {
          "output_type": "stream",
          "name": "stdout",
          "text": [
            "Enter a NUMBER: 23\n",
            "The number is POSITIVE(+).\n"
          ]
        }
      ]
    },
    {
      "cell_type": "code",
      "source": [
        "# 17.Write a Python program to find the maximum of three numbers.\n",
        "p = int(input(\"Enter first number: \"))\n",
        "q = int(input(\"Enter second number: \"))\n",
        "r = int(input(\"Enter third number: \"))\n",
        "\n",
        "print(\"Maximum of three numbers is:\", max(p, q, r))"
      ],
      "metadata": {
        "colab": {
          "base_uri": "https://localhost:8080/"
        },
        "id": "xgQgXJtPHjAu",
        "outputId": "e2846e7e-4b54-4f8c-ef7f-9a1ae81177e4"
      },
      "execution_count": null,
      "outputs": [
        {
          "output_type": "stream",
          "name": "stdout",
          "text": [
            "Enter first number: 20\n",
            "Enter second number: 25\n",
            "Enter third number: 98\n",
            "Maximum of three numbers is: 98\n"
          ]
        }
      ]
    },
    {
      "cell_type": "code",
      "source": [
        "#18. Write a Python program to check if a year is a leap year.\n",
        "year = int(input(\"Enter a year: \"))\n",
        "if (year % 400 == 0) and (year % 100 == 0):\n",
        "    print(\"{0} is a leap year\".format(year))\n",
        "elif (year % 4 ==0) and (year % 100 != 0):\n",
        "    print(\"{0} is a leap year\".format(year))\n",
        "else:\n",
        "    print(\"{0} is not a leap year\".format(year))"
      ],
      "metadata": {
        "colab": {
          "base_uri": "https://localhost:8080/"
        },
        "id": "uO8ZD_d9IQbr",
        "outputId": "3a2fe39b-3091-4c0f-aab4-443a06ada989"
      },
      "execution_count": null,
      "outputs": [
        {
          "output_type": "stream",
          "name": "stdout",
          "text": [
            "Enter a year: 2023\n",
            "2023 is not a leap year\n"
          ]
        }
      ]
    },
    {
      "cell_type": "code",
      "source": [
        "# 19.Write a Python program to check if a number is divisible by both 3 and 5.\n",
        "num = int(input(\"Enter a number: \"))\n",
        "if num % 3 == 0 and num % 5 == 0:\n",
        "    print(\"The number is divisible by both 3 and 5.\")"
      ],
      "metadata": {
        "colab": {
          "base_uri": "https://localhost:8080/"
        },
        "id": "gh8EkMn-JLsQ",
        "outputId": "ccbd84f2-7783-403d-f73f-5f8c4160b608"
      },
      "execution_count": null,
      "outputs": [
        {
          "output_type": "stream",
          "name": "stdout",
          "text": [
            "Enter a number: 15\n",
            "The number is divisible by both 3 and 5.\n"
          ]
        }
      ]
    },
    {
      "cell_type": "code",
      "source": [
        "# 20. Write a Python program to check if a string is a palindrome\n",
        "string  = input(\"enter a string\")\n",
        "if string == string[::-1]:\n",
        "  print(\"THE STRING IS PALINDROME\")\n",
        "else:\n",
        "  print(\"THE STRTING IS NOT PALINDROME\")"
      ],
      "metadata": {
        "colab": {
          "base_uri": "https://localhost:8080/"
        },
        "id": "EgRSEfQDJWB4",
        "outputId": "ce848d03-60ba-4366-cd8d-3bc5eab8753c"
      },
      "execution_count": null,
      "outputs": [
        {
          "output_type": "stream",
          "name": "stdout",
          "text": [
            "enter a stringVARSHITHA\n",
            "THE STRTING IS NOT PALINDROME\n"
          ]
        }
      ]
    },
    {
      "cell_type": "code",
      "source": [
        "# 21 . Write a Python program to print numbers from 1 to 10 using a for loop.\n",
        "num = 0\n",
        "for num in range(1,11):\n",
        "    print(num)"
      ],
      "metadata": {
        "colab": {
          "base_uri": "https://localhost:8080/"
        },
        "id": "kOwwaYvyKWGg",
        "outputId": "263b2a45-22a5-4663-daae-2e3b1cc5e66d"
      },
      "execution_count": null,
      "outputs": [
        {
          "output_type": "stream",
          "name": "stdout",
          "text": [
            "1\n",
            "2\n",
            "3\n",
            "4\n",
            "5\n",
            "6\n",
            "7\n",
            "8\n",
            "9\n",
            "10\n"
          ]
        }
      ]
    },
    {
      "cell_type": "code",
      "source": [
        "# 22.  Write a Python program to print all even numbers from 1 to 20 using a while loop.\n",
        "num = 0\n",
        "while num <= 20:\n",
        "    if num % 2 == 0:\n",
        "        print(num)\n",
        "    num += 1\n",
        "\n"
      ],
      "metadata": {
        "colab": {
          "base_uri": "https://localhost:8080/"
        },
        "id": "FC72Npk_K2c9",
        "outputId": "e85ee9d8-8195-4e8a-e653-cc4ef4b9589f"
      },
      "execution_count": null,
      "outputs": [
        {
          "output_type": "stream",
          "name": "stdout",
          "text": [
            "0\n",
            "2\n",
            "4\n",
            "6\n",
            "8\n",
            "10\n",
            "12\n",
            "14\n",
            "16\n",
            "18\n",
            "20\n"
          ]
        }
      ]
    },
    {
      "cell_type": "code",
      "source": [
        "# 23. Write a Python program to print the multiplication table of a given number using a for loop\n",
        "num = int(input(\"Enter a number: \"))\n",
        "for i in range(1, 11):\n",
        "    print(num, \"x\", i, \"=\", num*i)"
      ],
      "metadata": {
        "colab": {
          "base_uri": "https://localhost:8080/"
        },
        "id": "g4c8HFxhLZ4i",
        "outputId": "ce578871-c522-4ae9-8d9d-88e88ddb258c"
      },
      "execution_count": null,
      "outputs": [
        {
          "output_type": "stream",
          "name": "stdout",
          "text": [
            "Enter a number: 10\n",
            "10 x 1 = 10\n",
            "10 x 2 = 20\n",
            "10 x 3 = 30\n",
            "10 x 4 = 40\n",
            "10 x 5 = 50\n",
            "10 x 6 = 60\n",
            "10 x 7 = 70\n",
            "10 x 8 = 80\n",
            "10 x 9 = 90\n",
            "10 x 10 = 100\n"
          ]
        }
      ]
    },
    {
      "cell_type": "code",
      "source": [
        "# 24 . Write a Python program to calculate the sum of all numbers from 1 to n using a while loop.\n",
        "num = int(input(\"Enter a number: \"))\n",
        "sum = 0\n",
        "i = 1\n",
        "while i <= num:\n",
        "    sum += i\n",
        "    i += 1\n",
        "print(sum)\n",
        "   # sum += i\n",
        "    #i += 1\n",
        "print(\"The sum of all numbers from 1 to\", num, \"is\", sum)"
      ],
      "metadata": {
        "colab": {
          "base_uri": "https://localhost:8080/"
        },
        "id": "OQzmxBPKLqIe",
        "outputId": "86304276-1128-4bf2-ca0f-827125149e76"
      },
      "execution_count": null,
      "outputs": [
        {
          "output_type": "stream",
          "name": "stdout",
          "text": [
            "Enter a number: 23\n",
            "276\n",
            "The sum of all numbers from 1 to 23 is 276\n"
          ]
        }
      ]
    },
    {
      "cell_type": "code",
      "source": [
        "# 25.Write a Python program to calculate the factorial of a number using a while loop\n",
        "num = int(input(\"Enter a number: \"))\n",
        "factorial = 1\n",
        "i = 1\n",
        "while i <= num:\n",
        "    factorial *= i\n",
        "    i += 1\n",
        "print(\"The factorial of\", num, \"is\", factorial)\n"
      ],
      "metadata": {
        "id": "o68rmYl_Mr7c",
        "colab": {
          "base_uri": "https://localhost:8080/"
        },
        "outputId": "cc1d27ac-3b4e-48c7-d335-379a64b0385d"
      },
      "execution_count": null,
      "outputs": [
        {
          "output_type": "stream",
          "name": "stdout",
          "text": [
            "Enter a number: 10\n",
            "The factorial of 10 is 3628800\n"
          ]
        }
      ]
    },
    {
      "cell_type": "code",
      "source": [
        "# 26. Write a Python program to print the Fibonacci sequence up to n terms.\n",
        "n = int(input(\"Enter the number of terms: \"))\n",
        "num1 = 0\n",
        "num2 = 1\n",
        "next_number = num2\n",
        "count = 1\n",
        "\n",
        "while count <= n:\n",
        "    print(next_number, end=\" \")\n",
        "    count += 1\n",
        "    num1, num2 = num2, next_number\n",
        "    next_number = num1 + num2\n",
        "print()"
      ],
      "metadata": {
        "colab": {
          "base_uri": "https://localhost:8080/"
        },
        "id": "jM7kcB4BmQFv",
        "outputId": "2c4717c6-e909-4ef4-b112-67f5a061f702"
      },
      "execution_count": null,
      "outputs": [
        {
          "output_type": "stream",
          "name": "stdout",
          "text": [
            "Enter the number of terms: 23\n",
            "1 2 3 5 8 13 21 34 55 89 144 233 377 610 987 1597 2584 4181 6765 10946 17711 28657 46368 \n"
          ]
        }
      ]
    },
    {
      "cell_type": "code",
      "source": [
        "# 27.Write a Python program to find all the prime numbers from 1 to 100.\n",
        "for num in range(1, 101):\n",
        "    if num > 1:\n",
        "        for i in range(2, num):\n",
        "            if (num % i) == 0:\n",
        "                break\n",
        "        else:\n",
        "            print(num)"
      ],
      "metadata": {
        "colab": {
          "base_uri": "https://localhost:8080/"
        },
        "id": "JVPW7VCCoMxy",
        "outputId": "20bb0781-98f3-4544-ffbf-9eed4718719e"
      },
      "execution_count": null,
      "outputs": [
        {
          "output_type": "stream",
          "name": "stdout",
          "text": [
            "2\n",
            "3\n",
            "5\n",
            "7\n",
            "11\n",
            "13\n",
            "17\n",
            "19\n",
            "23\n",
            "29\n",
            "31\n",
            "37\n",
            "41\n",
            "43\n",
            "47\n",
            "53\n",
            "59\n",
            "61\n",
            "67\n",
            "71\n",
            "73\n",
            "79\n",
            "83\n",
            "89\n",
            "97\n"
          ]
        }
      ]
    },
    {
      "cell_type": "code",
      "source": [
        "#28. Write a Python program that breaks out of a loop when a specific condition is met (e.g., when a number greater than 50 is found).\n",
        "num = int(input(\"Enter a number: \"))\n",
        "\n",
        "for num in numbers:\n",
        "    if num > 50:\n",
        "        print(f\"NUMBER GREATER THAN 50: {num}\")\n",
        "        break\n",
        "    print(num)\n",
        "\n",
        "print(\"Loop exited\")"
      ],
      "metadata": {
        "colab": {
          "base_uri": "https://localhost:8080/"
        },
        "id": "q1luRu1poo9B",
        "outputId": "b060460c-dc68-408d-be80-a0696b013d3d"
      },
      "execution_count": null,
      "outputs": [
        {
          "output_type": "stream",
          "name": "stdout",
          "text": [
            "Enter a number: 75\n",
            "10\n",
            "20\n",
            "30\n",
            "40\n",
            "NUMBER GREATER THAN 50: 60\n",
            "Loop exited\n"
          ]
        }
      ]
    },
    {
      "cell_type": "code",
      "source": [
        "#29.Write a Python program to skip even numbers while printing numbers from 1 to 20 using a for loop\n",
        "for num in range(1, 21):\n",
        "    if num % 2 == 0:\n",
        "        continue\n",
        "    print(num)"
      ],
      "metadata": {
        "colab": {
          "base_uri": "https://localhost:8080/"
        },
        "id": "6O8NhScHpsiM",
        "outputId": "822cd13f-4407-4693-b757-241cda8a4db9"
      },
      "execution_count": null,
      "outputs": [
        {
          "output_type": "stream",
          "name": "stdout",
          "text": [
            "1\n",
            "3\n",
            "5\n",
            "7\n",
            "9\n",
            "11\n",
            "13\n",
            "15\n",
            "17\n",
            "19\n"
          ]
        }
      ]
    },
    {
      "cell_type": "code",
      "source": [
        "# 30.  Write a Python program to count how many times a particular character appears in a string using a for loop. (User input for string and character)\n",
        "string = input(\"Enter a string: \")\n",
        "character = input(\"Enter a character: \")\n",
        "name = 0\n",
        "for char in string:\n",
        "    if char == character:\n",
        "        name += 1\n",
        "print(f\"The character '{character}' appears {name} times in the string '{string}'.\")"
      ],
      "metadata": {
        "colab": {
          "base_uri": "https://localhost:8080/"
        },
        "id": "y0_hSKbXp4iM",
        "outputId": "60e088e3-83a3-4111-8413-2db30d3ef797"
      },
      "execution_count": null,
      "outputs": [
        {
          "output_type": "stream",
          "name": "stdout",
          "text": [
            "Enter a string: varshithabhaskar\n",
            "Enter a character: a\n",
            "The character 'a' appears 4 times in the string 'varshithabhaskar'.\n"
          ]
        }
      ]
    },
    {
      "cell_type": "code",
      "source": [
        "#31. Write a Python program to calculate the sum of digits of a number. (User input for the number)\n",
        "num = int(input(\"Enter a number: \"))\n",
        "sum = 0\n",
        "while num > 0:\n",
        "    digit = num % 10\n",
        "    sum += digit\n",
        "    num //= 10\n",
        "print(\"The sum of digits is:\", sum)"
      ],
      "metadata": {
        "colab": {
          "base_uri": "https://localhost:8080/"
        },
        "id": "H3b-7c3Iqcyc",
        "outputId": "aeba4e4d-a7f6-48b3-a869-64d939c829e2"
      },
      "execution_count": null,
      "outputs": [
        {
          "output_type": "stream",
          "name": "stdout",
          "text": [
            "Enter a number: 23\n",
            "The sum of digits is: 5\n"
          ]
        }
      ]
    },
    {
      "cell_type": "markdown",
      "source": [
        "# **Data Structures (Lists, Tuples, Sets, Dictionaries)**"
      ],
      "metadata": {
        "id": "PJmTVANJSx7V"
      }
    },
    {
      "cell_type": "code",
      "source": [
        "#32.Write a Python program to create a list of integers and print the sum of the elements.\n",
        "my_list = [1, 2, 3, 4, 5, 6, 7, 8, 9, 10]\n",
        "sum = 0\n",
        "for num in my_list:\n",
        "    sum += num\n",
        "print(\"The sum of the elements is:\", sum)"
      ],
      "metadata": {
        "id": "FLTgK5BlRylo",
        "outputId": "07186aa8-bdce-4a1d-810e-c6ae991c318a",
        "colab": {
          "base_uri": "https://localhost:8080/"
        }
      },
      "execution_count": null,
      "outputs": [
        {
          "output_type": "stream",
          "name": "stdout",
          "text": [
            "The sum of the elements is: 55\n"
          ]
        }
      ]
    },
    {
      "cell_type": "code",
      "source": [
        "#33. Write a Python program to find the largest element in a list\n",
        "my_list = [1, 10, 75, 85, 101, 562,]\n",
        "largest = my_list[0]\n",
        "for num in my_list:\n",
        "    if num > largest:\n",
        "        largest = num\n",
        "print(\"The largest element is:\", largest)"
      ],
      "metadata": {
        "id": "XlUPFKJ_TepK",
        "outputId": "70feb064-9e91-4372-bbe0-0b1bf5a12ff6",
        "colab": {
          "base_uri": "https://localhost:8080/"
        }
      },
      "execution_count": null,
      "outputs": [
        {
          "output_type": "stream",
          "name": "stdout",
          "text": [
            "The largest element is: 562\n"
          ]
        }
      ]
    },
    {
      "cell_type": "code",
      "source": [
        "#34.Write a Python program to reverse a list.\n",
        "my_list = [10, 9, 8, 7, 6, 5, 4, 3, 2, 1, 0]\n",
        "reversed_list = my_list[::-1]\n",
        "print(reversed_list)"
      ],
      "metadata": {
        "id": "nfXjFglLT8SZ",
        "outputId": "49a8994e-8dd1-4704-cc2e-f2955018fb47",
        "colab": {
          "base_uri": "https://localhost:8080/"
        }
      },
      "execution_count": null,
      "outputs": [
        {
          "output_type": "stream",
          "name": "stdout",
          "text": [
            "[0, 1, 2, 3, 4, 5, 6, 7, 8, 9, 10]\n"
          ]
        }
      ]
    },
    {
      "cell_type": "code",
      "source": [
        "# 35. Write a Python program to remove all occurrences of a specific element from a list.\n",
        "my_list = [1, 2, 3, 1, 5, 2, 8, 3, 1, 2, 9, 2, 4]\n",
        "element = 1\n",
        "my_list = [x for x in my_list if x != element]\n",
        "print(my_list)\n"
      ],
      "metadata": {
        "id": "5rJD8cPWUTra",
        "outputId": "1a393933-aa1c-4a52-e150-a878e1120295",
        "colab": {
          "base_uri": "https://localhost:8080/"
        }
      },
      "execution_count": null,
      "outputs": [
        {
          "output_type": "stream",
          "name": "stdout",
          "text": [
            "[2, 3, 5, 2, 8, 3, 2, 9, 2, 4]\n"
          ]
        }
      ]
    },
    {
      "cell_type": "code",
      "source": [
        "# 36.  Write a Python program to find the index of an element in a list.\n",
        "my_list = [10, 20, 30, 40, 50, 60, 70, 80, 90, 100]\n",
        "element = 30\n",
        "index_element = my_list.index(element)\n",
        "print(index_element)"
      ],
      "metadata": {
        "id": "UsjFiusxVApL",
        "outputId": "72f0f3e5-909e-4339-e91f-4f132b5e0d51",
        "colab": {
          "base_uri": "https://localhost:8080/"
        }
      },
      "execution_count": null,
      "outputs": [
        {
          "output_type": "stream",
          "name": "stdout",
          "text": [
            "2\n"
          ]
        }
      ]
    },
    {
      "cell_type": "code",
      "source": [
        "# 37.  Write a Python program to find if a specific element exists in a list.\n",
        "my_list = [1, 2, 3, 4, 5, 6, 7, 8, 9, 10]\n",
        "element = 5\n",
        "if element in my_list:\n",
        "    print(f\"The element {element} exists in the list.\")"
      ],
      "metadata": {
        "id": "2v6E5v4fVrZC",
        "outputId": "d9677aa3-0074-4d91-f1cd-23fff4ba3a44",
        "colab": {
          "base_uri": "https://localhost:8080/"
        }
      },
      "execution_count": null,
      "outputs": [
        {
          "output_type": "stream",
          "name": "stdout",
          "text": [
            "The element 5 exists in the list.\n"
          ]
        }
      ]
    },
    {
      "cell_type": "code",
      "source": [
        "#38. Write a Python program to remove duplicates from a list.\n",
        "my_list = [1, 2, 3, 1, 5, 2, 8, 3, 1, 2, 9, 2, 4]\n",
        "my_list = list(set(my_list))\n",
        "print(my_list)\n",
        "\n"
      ],
      "metadata": {
        "id": "hVHdTOxWV80W",
        "outputId": "c50326f1-0700-44e2-8dae-101242289fe4",
        "colab": {
          "base_uri": "https://localhost:8080/"
        }
      },
      "execution_count": 1,
      "outputs": [
        {
          "output_type": "stream",
          "name": "stdout",
          "text": [
            "[1, 2, 3, 4, 5, 8, 9]\n"
          ]
        }
      ]
    },
    {
      "cell_type": "code",
      "source": [
        "#39. Write a Python program to count the occurrences of an element in a list.\n",
        "my_list = [1, 2, 3, 1, 5, 2, 8, 3, 1, 2, 9, 2, 4]\n",
        "element = 2\n",
        "count = my_list.count(element)\n",
        "print(count)"
      ],
      "metadata": {
        "id": "aVr9V7fQWUAi",
        "outputId": "20ca57e0-49f7-40ec-d0b2-5fc6b98d69e2",
        "colab": {
          "base_uri": "https://localhost:8080/"
        }
      },
      "execution_count": 3,
      "outputs": [
        {
          "output_type": "stream",
          "name": "stdout",
          "text": [
            "4\n"
          ]
        }
      ]
    },
    {
      "cell_type": "code",
      "source": [
        "#40.Write a Python program to get the number of even numbers in a list.\n",
        "my_list = [1, 2, 3, 4, 5, 6, 7, 8, 9, 10]\n",
        "count = 0\n",
        "for num in my_list:\n",
        "    if num % 2 == 0:\n",
        "        count += 1\n",
        "print(count)\n"
      ],
      "metadata": {
        "id": "k6wI5q5yWrkY",
        "outputId": "0a54a8ad-ed54-42ca-9134-813d189ffbd9",
        "colab": {
          "base_uri": "https://localhost:8080/"
        }
      },
      "execution_count": 4,
      "outputs": [
        {
          "output_type": "stream",
          "name": "stdout",
          "text": [
            "5\n"
          ]
        }
      ]
    },
    {
      "cell_type": "code",
      "source": [
        "#41. Write a Python program to create a tuple and print it.\n",
        "my_tuple = (1, 2, 3, 4, 5)\n",
        "print(my_tuple)"
      ],
      "metadata": {
        "id": "Hy05c_R2W32m",
        "outputId": "40f948e7-6535-4569-9274-cafcc037d657",
        "colab": {
          "base_uri": "https://localhost:8080/"
        }
      },
      "execution_count": 5,
      "outputs": [
        {
          "output_type": "stream",
          "name": "stdout",
          "text": [
            "(1, 2, 3, 4, 5)\n"
          ]
        }
      ]
    },
    {
      "cell_type": "code",
      "source": [
        "#42 .  Write a Python program to convert a tuple to a list and vice versa.\n",
        "my_tuple = (1, 2, 3, 4, 5)\n",
        "my_list = list(my_tuple)\n",
        "print(my_list)\n",
        "my_tuple = tuple(my_list)\n",
        "print(my_tuple)"
      ],
      "metadata": {
        "id": "ejPMvmHRXAEw",
        "outputId": "d8a1fd3f-9efe-4a85-8170-a89101f273b5",
        "colab": {
          "base_uri": "https://localhost:8080/"
        }
      },
      "execution_count": 8,
      "outputs": [
        {
          "output_type": "stream",
          "name": "stdout",
          "text": [
            "[1, 2, 3, 4, 5]\n",
            "(1, 2, 3, 4, 5)\n"
          ]
        }
      ]
    },
    {
      "cell_type": "code",
      "source": [
        "#43. Write a Python program to find the maximum and minimum values in a tuple.\n",
        "my_tuple = (1, 2, 3, 4, 5, 6, 7, 8, 9, 10)\n",
        "maximum = max(my_tuple)\n",
        "minimum = min(my_tuple)\n",
        "print(\"maximum value: \", maximum)\n",
        "print(\"minimum value:\", minimum)\n"
      ],
      "metadata": {
        "id": "S7QsvV8YX2SN",
        "outputId": "856c656c-46c7-4a0a-f0f8-61711037f35c",
        "colab": {
          "base_uri": "https://localhost:8080/"
        }
      },
      "execution_count": 11,
      "outputs": [
        {
          "output_type": "stream",
          "name": "stdout",
          "text": [
            "maximum value:  10\n",
            "minimum value: 1\n"
          ]
        }
      ]
    },
    {
      "cell_type": "code",
      "source": [
        "#44. Write a Python program to unpack a tuple into variables.\n",
        "my_tuple = (1, 2, 3)\n",
        "a, b, c = my_tuple\n",
        "print(a)\n",
        "print(b)\n",
        "print(c)"
      ],
      "metadata": {
        "id": "L3xW1Q5-YQf1",
        "outputId": "fb9b691e-e0a1-4371-c4bc-f20031cf0508",
        "colab": {
          "base_uri": "https://localhost:8080/"
        }
      },
      "execution_count": 12,
      "outputs": [
        {
          "output_type": "stream",
          "name": "stdout",
          "text": [
            "1\n",
            "2\n",
            "3\n"
          ]
        }
      ]
    },
    {
      "cell_type": "code",
      "source": [
        "#45. Write a Python program to add an element to a set and check if an element exists in the set.\n",
        "my_set = {1, 2, 3, 4, 5}\n",
        "my_set.add(6)\n",
        "print(my_set)\n",
        "element = 3\n",
        "if element in my_set:\n",
        "    print(f\"The element {element} exists in the set.\")"
      ],
      "metadata": {
        "id": "n8TvlZUsYxx3",
        "outputId": "288a4efd-b5a9-4fcc-907b-9ce3777007e2",
        "colab": {
          "base_uri": "https://localhost:8080/"
        }
      },
      "execution_count": 13,
      "outputs": [
        {
          "output_type": "stream",
          "name": "stdout",
          "text": [
            "{1, 2, 3, 4, 5, 6}\n",
            "The element 3 exists in the set.\n"
          ]
        }
      ]
    },
    {
      "cell_type": "code",
      "source": [
        "#46.  Write a Python program to create a dictionary with keys and values and print it.\n",
        "my_dict = {'a': 1, 'b': 2, 'c': 3, 'd': 4, 'e': 5}\n",
        "print(my_dict)\n",
        "\n"
      ],
      "metadata": {
        "id": "KalYT4cfZE8D",
        "outputId": "f20846ee-bcc1-4442-ace8-92e06958c85c",
        "colab": {
          "base_uri": "https://localhost:8080/"
        }
      },
      "execution_count": 14,
      "outputs": [
        {
          "output_type": "stream",
          "name": "stdout",
          "text": [
            "{'a': 1, 'b': 2, 'c': 3, 'd': 4, 'e': 5}\n"
          ]
        }
      ]
    },
    {
      "cell_type": "code",
      "source": [
        "#47. Write a Python program to access a dictionary value using a key.\n",
        "my_dict = {\"name\": \"Alice\", \"age\": 30, \"city\": \"New York\"}\n",
        "name = my_dict[\"name\"]\n",
        "print(name)\n",
        "age = my_dict[\"age\"]\n",
        "print(age)"
      ],
      "metadata": {
        "id": "ec4qhHEvZUqU",
        "outputId": "625feee8-9b70-4eee-9283-017a44310f3b",
        "colab": {
          "base_uri": "https://localhost:8080/"
        }
      },
      "execution_count": 15,
      "outputs": [
        {
          "output_type": "stream",
          "name": "stdout",
          "text": [
            "Alice\n",
            "30\n"
          ]
        }
      ]
    },
    {
      "cell_type": "code",
      "source": [
        "#48.  Write a Python program to check if a key exists in a dictionary.\n",
        "my_dict = {'a': 1, 'b': 2, 'c': 3, 'd': 4, 'e': 5}\n",
        "key = 'b'\n",
        "if key in my_dict:\n",
        "    print(key, \"exists in the dictionary\")"
      ],
      "metadata": {
        "id": "8x2oFFVDZrOq",
        "outputId": "68f668e0-0abf-4b52-90ff-985ec07201a0",
        "colab": {
          "base_uri": "https://localhost:8080/"
        }
      },
      "execution_count": 16,
      "outputs": [
        {
          "output_type": "stream",
          "name": "stdout",
          "text": [
            "b exists in the dictionary\n"
          ]
        }
      ]
    },
    {
      "cell_type": "code",
      "source": [
        "#49. Write a Python program to merge two dictionaries.\n",
        "dict1 = {'a': 1, 'b': 2, 'c': 3}\n",
        "dict2 = {'d': 4, 'e': 5, 'f': 6}\n",
        "merged_dict = {**dict1, **dict2}\n",
        "print(merged_dict)"
      ],
      "metadata": {
        "id": "Ko8r1UkHZ3qb",
        "outputId": "060748ed-81db-4454-8f66-b4c2c30cc052",
        "colab": {
          "base_uri": "https://localhost:8080/"
        }
      },
      "execution_count": 17,
      "outputs": [
        {
          "output_type": "stream",
          "name": "stdout",
          "text": [
            "{'a': 1, 'b': 2, 'c': 3, 'd': 4, 'e': 5, 'f': 6}\n"
          ]
        }
      ]
    },
    {
      "cell_type": "code",
      "source": [
        "#50. Write a Python program to remove a key from a dictionary.\n",
        "my_dict = {'a': 1, 'b': 2, 'c': 3, 'd': 4, 'e': 5}\n",
        "del my_dict['a']\n",
        "print(my_dict)"
      ],
      "metadata": {
        "id": "eYWfcalZaBFU",
        "outputId": "e105b71a-4af0-46f2-d96d-2dfc5c822f53",
        "colab": {
          "base_uri": "https://localhost:8080/"
        }
      },
      "execution_count": 18,
      "outputs": [
        {
          "output_type": "stream",
          "name": "stdout",
          "text": [
            "{'b': 2, 'c': 3, 'd': 4, 'e': 5}\n"
          ]
        }
      ]
    },
    {
      "cell_type": "code",
      "source": [
        "#51. Write a Python program to get the number of keys in a dictionary.\n",
        "my_dict = {'a': 1, 'b': 2, 'c': 3, 'd': 4, 'e': 5}\n",
        "num_keys = len(my_dict)\n",
        "print(num_keys)"
      ],
      "metadata": {
        "id": "Ptlrl7_eaOHa",
        "outputId": "cd9a4bec-f187-4b99-a22b-16f43c31e37b",
        "colab": {
          "base_uri": "https://localhost:8080/"
        }
      },
      "execution_count": 19,
      "outputs": [
        {
          "output_type": "stream",
          "name": "stdout",
          "text": [
            "5\n"
          ]
        }
      ]
    },
    {
      "cell_type": "code",
      "source": [
        "#52.Write a Python program to find the largest and smallest values in a dictionary.\n",
        "my_dict = {'a': 10, 'b': 20, 'c': 30, 'd': 40, 'e': 50}\n",
        "largest_value = max(my_dict.values())\n",
        "smallest_value = min(my_dict.values())\n",
        "print(\"Largest value:\", largest_value)\n",
        "print(\"Smallest value:\", smallest_value)"
      ],
      "metadata": {
        "id": "aVaMeIbnaUg5",
        "outputId": "26fa04c8-bde9-4996-d8d3-8c2c65cd7b25",
        "colab": {
          "base_uri": "https://localhost:8080/"
        }
      },
      "execution_count": 20,
      "outputs": [
        {
          "output_type": "stream",
          "name": "stdout",
          "text": [
            "Largest value: 50\n",
            "Smallest value: 10\n"
          ]
        }
      ]
    },
    {
      "cell_type": "markdown",
      "source": [
        "# **Functions (User-Defined, Arguments, Keyword Arguments, Return Values)**"
      ],
      "metadata": {
        "id": "GhvueT44ak3l"
      }
    },
    {
      "cell_type": "code",
      "source": [
        "#53. Write a Python function that returns the square of a number.\n",
        "def square(num):\n",
        "    return num ** 2\n",
        "result = square(5)\n",
        "print(result)"
      ],
      "metadata": {
        "id": "ARcPEz0SafF6",
        "outputId": "cc1264b8-ddf2-49de-895d-b8b42fa7f631",
        "colab": {
          "base_uri": "https://localhost:8080/"
        }
      },
      "execution_count": 21,
      "outputs": [
        {
          "output_type": "stream",
          "name": "stdout",
          "text": [
            "25\n"
          ]
        }
      ]
    },
    {
      "cell_type": "code",
      "source": [
        "#54. Write a Python function that accepts two parameters and returns their sum.\n",
        "def add_numbers(a, b):\n",
        "    return a + b\n",
        "result = add_numbers(5, 10)\n",
        "print(result)"
      ],
      "metadata": {
        "id": "WWRjdhbka1GQ",
        "outputId": "b415b717-ab44-462e-8ee7-f683f13488fa",
        "colab": {
          "base_uri": "https://localhost:8080/"
        }
      },
      "execution_count": 22,
      "outputs": [
        {
          "output_type": "stream",
          "name": "stdout",
          "text": [
            "15\n"
          ]
        }
      ]
    },
    {
      "cell_type": "code",
      "source": [
        "#55. Write a Python function to check if a given number is prime.\n",
        "def is_prime(num):\n",
        "    if num < 2:\n",
        "        return False\n",
        "    for i in range(2, int(num ** 0.5) + 1):\n",
        "        if num % i == 0:\n",
        "            return False\n",
        "    return True\n",
        "    result = is_prime(7)\n",
        "print(result)"
      ],
      "metadata": {
        "id": "hTMVgjxwbMHi",
        "outputId": "193d5734-374c-4faa-a1be-0534a7412ea5",
        "colab": {
          "base_uri": "https://localhost:8080/"
        }
      },
      "execution_count": 24,
      "outputs": [
        {
          "output_type": "stream",
          "name": "stdout",
          "text": [
            "15\n"
          ]
        }
      ]
    },
    {
      "cell_type": "code",
      "source": [
        "#56. Write a Python function to calculate the factorial of a number using recursion.\n",
        "def factorial(n):\n",
        "    if n == 0:\n",
        "        return 1\n",
        "    else:\n",
        "        return n * factorial(n - 1)\n",
        "result = factorial(5)\n",
        "print(result)"
      ],
      "metadata": {
        "id": "8PuFJbRIbean",
        "outputId": "00fba71b-077c-4203-d943-128addab4541",
        "colab": {
          "base_uri": "https://localhost:8080/"
        }
      },
      "execution_count": 25,
      "outputs": [
        {
          "output_type": "stream",
          "name": "stdout",
          "text": [
            "120\n"
          ]
        }
      ]
    },
    {
      "cell_type": "code",
      "source": [
        "#57. Write a Python function to calculate the power of a number using recursion.\n",
        "def power(base, exponent):\n",
        "    if exponent == 0:\n",
        "        return 1\n",
        "    else:\n",
        "        return base * power(base, exponent - 1)\n",
        "result = power(2, 3)\n",
        "print(result)"
      ],
      "metadata": {
        "id": "ewa1x5bEbyi3",
        "outputId": "8b643d2f-3975-47a6-c4ec-92411172117a",
        "colab": {
          "base_uri": "https://localhost:8080/"
        }
      },
      "execution_count": 26,
      "outputs": [
        {
          "output_type": "stream",
          "name": "stdout",
          "text": [
            "8\n"
          ]
        }
      ]
    },
    {
      "cell_type": "code",
      "source": [
        "#58. Write a Python function to accept a list and return its length without using the built-in len() function\n",
        "def list_length(lst):\n",
        "    count = 0\n",
        "    for _ in lst:\n",
        "        count += 1\n",
        "    return count\n",
        "result = list_length([1, 2, 3, 4, 5])\n",
        "print(result)"
      ],
      "metadata": {
        "id": "iIsd0Yr8b-8z",
        "outputId": "79fe15b0-2578-461c-ddff-863fdde125c3",
        "colab": {
          "base_uri": "https://localhost:8080/"
        }
      },
      "execution_count": 27,
      "outputs": [
        {
          "output_type": "stream",
          "name": "stdout",
          "text": [
            "5\n"
          ]
        }
      ]
    },
    {
      "cell_type": "code",
      "source": [
        "# 59. Write a Python function that accepts both positional and keyword arguments and prints the sum of positional arguments.\n",
        "def sum_positional_arguments(*args):\n",
        "    total = 0\n",
        "    for arg in args:\n",
        "        total += arg\n",
        "    return total\n",
        "result = sum_positional_arguments(1, 2, 3, 4, 5)\n",
        "print(result)"
      ],
      "metadata": {
        "id": "M_NZNj_5cFHh",
        "outputId": "c337bc26-7240-4bc2-e409-097bb384f7d6",
        "colab": {
          "base_uri": "https://localhost:8080/"
        }
      },
      "execution_count": 28,
      "outputs": [
        {
          "output_type": "stream",
          "name": "stdout",
          "text": [
            "15\n"
          ]
        }
      ]
    },
    {
      "cell_type": "code",
      "source": [
        "#60. Write a Python function to find the maximum of two numbers using keyword arguments.\n",
        "def find_max(a, b):\n",
        "    if a > b:\n",
        "        return a\n",
        "    else:\n",
        "        return b\n",
        "result = find_max(b=10, a=5)\n",
        "print(result)"
      ],
      "metadata": {
        "id": "0Bh_oMT4ce8T",
        "outputId": "eb361654-ba11-48e0-c810-d617339c0fd9",
        "colab": {
          "base_uri": "https://localhost:8080/"
        }
      },
      "execution_count": 29,
      "outputs": [
        {
          "output_type": "stream",
          "name": "stdout",
          "text": [
            "10\n"
          ]
        }
      ]
    },
    {
      "cell_type": "code",
      "source": [
        "#61. Write a Python function that accepts a list of numbers and returns their product.\n",
        "def product_of_numbers(numbers):\n",
        "    product = 1\n",
        "    for num in numbers:\n",
        "        product *= num\n",
        "    return product\n",
        "result = product_of_numbers([1, 2, 3, 4, 5])\n",
        "print(result)\n"
      ],
      "metadata": {
        "id": "RM6a3_EAclCZ",
        "outputId": "198bfac0-f0b2-4a09-dc13-4961d6b489df",
        "colab": {
          "base_uri": "https://localhost:8080/"
        }
      },
      "execution_count": 30,
      "outputs": [
        {
          "output_type": "stream",
          "name": "stdout",
          "text": [
            "120\n"
          ]
        }
      ]
    },
    {
      "cell_type": "code",
      "source": [
        "#62.  Write a Python function to check if a number is even or odd using the modulo operator.\n",
        "def even_odd(number):\n",
        "    if number % 2 == 0:\n",
        "        return \"Even\"\n",
        "    else:\n",
        "        return \"Odd\"\n",
        "result = even_odd(7)\n",
        "print(result)"
      ],
      "metadata": {
        "id": "bHsxqxo3c1DI",
        "outputId": "e1da43fc-6945-4cdd-ddb9-2f6e1fc0ad50",
        "colab": {
          "base_uri": "https://localhost:8080/"
        }
      },
      "execution_count": 32,
      "outputs": [
        {
          "output_type": "stream",
          "name": "stdout",
          "text": [
            "Odd\n"
          ]
        }
      ]
    },
    {
      "cell_type": "code",
      "source": [
        "#63. Write a Python program to create a list of squares of numbers from 1 to 10 using list comprehension.\n",
        "squares = [x**2 for x in range(1, 11)]\n",
        "print(squares)\n"
      ],
      "metadata": {
        "id": "9gtYZqM1dJyC",
        "outputId": "0b3f2e89-4e85-4cb9-da6d-574dcc94c3c3",
        "colab": {
          "base_uri": "https://localhost:8080/"
        }
      },
      "execution_count": 33,
      "outputs": [
        {
          "output_type": "stream",
          "name": "stdout",
          "text": [
            "[1, 4, 9, 16, 25, 36, 49, 64, 81, 100]\n"
          ]
        }
      ]
    },
    {
      "cell_type": "code",
      "source": [
        "#64.  Write a Python program to filter out all even numbers from a list using list comprehension.\n",
        "numbers = [1, 2, 3, 4, 5, 6, 7, 8, 9, 10]\n",
        "even_numbers = [x for x in numbers if x % 2 == 0]\n",
        "print(even_numbers)"
      ],
      "metadata": {
        "id": "o9surUu7dXfE",
        "outputId": "1b0e9dd5-6319-4319-fb95-6587370db935",
        "colab": {
          "base_uri": "https://localhost:8080/"
        }
      },
      "execution_count": 34,
      "outputs": [
        {
          "output_type": "stream",
          "name": "stdout",
          "text": [
            "[2, 4, 6, 8, 10]\n"
          ]
        }
      ]
    },
    {
      "cell_type": "code",
      "source": [
        "#65. Write a Python program to create a list of strings that are longer than 4 characters from a given list of words using list comprehension.\n",
        "words = [\"apple\", \"banana\", \"cherry\", \"date\", \"elderberry\", \"fig\"]\n",
        "long_words = [word for word in words if len(word) > 4]\n",
        "print(long_words)"
      ],
      "metadata": {
        "id": "4dgIE3pqdfBO",
        "outputId": "9e5d8d19-d4bc-4fbd-f2fd-4145bffa88d5",
        "colab": {
          "base_uri": "https://localhost:8080/"
        }
      },
      "execution_count": 35,
      "outputs": [
        {
          "output_type": "stream",
          "name": "stdout",
          "text": [
            "['apple', 'banana', 'cherry', 'elderberry']\n"
          ]
        }
      ]
    },
    {
      "cell_type": "code",
      "source": [
        "#66. Write a Python program to create a list of all uppercase letters in a string using list comprehension.\n",
        "string = \"Hello, World!\"\n",
        "uppercase_letters = [char for char in string if char.isupper()]\n",
        "print(uppercase_letters)"
      ],
      "metadata": {
        "id": "10svQSJVdmBR",
        "outputId": "ad0c5706-afd3-4a19-ea43-c3c1c4d0e0f2",
        "colab": {
          "base_uri": "https://localhost:8080/"
        }
      },
      "execution_count": 36,
      "outputs": [
        {
          "output_type": "stream",
          "name": "stdout",
          "text": [
            "['H', 'W']\n"
          ]
        }
      ]
    },
    {
      "cell_type": "code",
      "source": [
        "#67. Write a Python program to generate the first n Fibonacci numbers using list comprehension.\n",
        "def fibonacci_sequence(n):\n",
        "  if n <=0:\n",
        "    return []\n",
        "  fibonacci = [0, 1]\n",
        "  [fibonacci.append(fibonacci[-1] + fibonacci[-2]) for _ in range(2, n)]\n",
        "  return fibonacci\n",
        "result = fibonacci_sequence(10)\n",
        "print(result)"
      ],
      "metadata": {
        "id": "0-QE9uLmdtG3",
        "outputId": "5ec54f44-cd0e-4bf7-ec66-134eaee386d6",
        "colab": {
          "base_uri": "https://localhost:8080/"
        }
      },
      "execution_count": 38,
      "outputs": [
        {
          "output_type": "stream",
          "name": "stdout",
          "text": [
            "[0, 1, 1, 2, 3, 5, 8, 13, 21, 34]\n"
          ]
        }
      ]
    },
    {
      "cell_type": "code",
      "source": [
        "#68.Write a Python program to create a dictionary where keys are numbers and values are their squares using dictionary comprehension.\n",
        "squares_dict = {x: x**2 for x in range(1, 11)}\n",
        "print(squares_dict)\n"
      ],
      "metadata": {
        "id": "NDdtCJ4wgRq1",
        "outputId": "3ecea904-39b2-4b97-c5ac-3fea4d868a8a",
        "colab": {
          "base_uri": "https://localhost:8080/"
        }
      },
      "execution_count": 39,
      "outputs": [
        {
          "output_type": "stream",
          "name": "stdout",
          "text": [
            "{1: 1, 2: 4, 3: 9, 4: 16, 5: 25, 6: 36, 7: 49, 8: 64, 9: 81, 10: 100}\n"
          ]
        }
      ]
    },
    {
      "cell_type": "code",
      "source": [
        "#69.  Write a Python program to create a dictionary from two lists (one for keys and one for values) using dictionary comprehension.\n",
        "keys = ['a', 'b', 'c', 'd']\n",
        "values = [1, 2, 3, 4]\n",
        "my_dict = {key: value for key, value in zip(keys, values)}\n",
        "print(my_dict)"
      ],
      "metadata": {
        "id": "FQ6v2e-Zgov0",
        "outputId": "de89e416-cd10-4d18-dfdf-1b40b55bbe17",
        "colab": {
          "base_uri": "https://localhost:8080/"
        }
      },
      "execution_count": 40,
      "outputs": [
        {
          "output_type": "stream",
          "name": "stdout",
          "text": [
            "{'a': 1, 'b': 2, 'c': 3, 'd': 4}\n"
          ]
        }
      ]
    },
    {
      "cell_type": "code",
      "source": [
        "#70. Write a Python program to create a dictionary of numbers from 1 to 5 and their cubes using dictionary comprehension.\n",
        "cubes_dict = {x: x**3 for x in range(1, 6)}\n",
        "print(cubes_dict)\n"
      ],
      "metadata": {
        "id": "BY6l5w1Igw2W",
        "outputId": "eb7d6313-6b60-46a5-96e8-e80738397da2",
        "colab": {
          "base_uri": "https://localhost:8080/"
        }
      },
      "execution_count": 41,
      "outputs": [
        {
          "output_type": "stream",
          "name": "stdout",
          "text": [
            "{1: 1, 2: 8, 3: 27, 4: 64, 5: 125}\n"
          ]
        }
      ]
    },
    {
      "cell_type": "code",
      "source": [
        "#71. Write a Python program to square each element of a list using the map() function.\n",
        "numbers = [1, 2, 3, 4, 5]\n",
        "squared_numbers = list(map(lambda x: x**2, numbers))\n",
        "print(squared_numbers)"
      ],
      "metadata": {
        "id": "W_-WSjT_g8qG",
        "outputId": "0758bfaa-dd23-4b4a-e71c-f9c20972ab48",
        "colab": {
          "base_uri": "https://localhost:8080/"
        }
      },
      "execution_count": 42,
      "outputs": [
        {
          "output_type": "stream",
          "name": "stdout",
          "text": [
            "[1, 4, 9, 16, 25]\n"
          ]
        }
      ]
    },
    {
      "cell_type": "code",
      "source": [
        "#72. Write a Python program to filter all even numbers from a list using the filter() function.\n",
        "numbers = [1, 2, 3, 4, 5, 6, 7, 8, 9, 10]\n",
        "even_numbers = list(filter(lambda x: x % 2 == 0, numbers))\n",
        "print(even_numbers)"
      ],
      "metadata": {
        "id": "6StfNg2DhGRT",
        "outputId": "0bac022a-c350-4988-bace-1084b9e9464d",
        "colab": {
          "base_uri": "https://localhost:8080/"
        }
      },
      "execution_count": 43,
      "outputs": [
        {
          "output_type": "stream",
          "name": "stdout",
          "text": [
            "[2, 4, 6, 8, 10]\n"
          ]
        }
      ]
    },
    {
      "cell_type": "code",
      "source": [
        "#73. Write a Python program to use a lambda function to check if a number is divisible by both 3 and 5.\n",
        "is_divisible_by_3_and_5 = lambda x: x % 3 == 0 and x % 5 == 0\n",
        "result = is_divisible_by_3_and_5(15)\n",
        "print(result)\n"
      ],
      "metadata": {
        "id": "BNycv1u1hMj8",
        "outputId": "9088fcb4-a05d-44d8-ad50-78836d6d3394",
        "colab": {
          "base_uri": "https://localhost:8080/"
        }
      },
      "execution_count": 44,
      "outputs": [
        {
          "output_type": "stream",
          "name": "stdout",
          "text": [
            "True\n"
          ]
        }
      ]
    },
    {
      "cell_type": "code",
      "source": [
        "#74. Write a Python program to multiply all numbers in a list by 2 using a lambda function inside map().\n",
        "numbers = [1, 2, 3, 4, 5]\n",
        "doubled_numbers = list(map(lambda x: x * 2, numbers))\n",
        "print(doubled_numbers)"
      ],
      "metadata": {
        "id": "5V3wOD7qhdPd",
        "outputId": "9286d70e-6bbf-407e-f800-019e53a5ab6e",
        "colab": {
          "base_uri": "https://localhost:8080/"
        }
      },
      "execution_count": 45,
      "outputs": [
        {
          "output_type": "stream",
          "name": "stdout",
          "text": [
            "[2, 4, 6, 8, 10]\n"
          ]
        }
      ]
    },
    {
      "cell_type": "code",
      "source": [
        "#75. Write a Python program to remove all occurrences of a specific element from a list.\n",
        "def remove_all_occurrences(my_list, element_to_remove):\n",
        "    modified_list = [element for element in my_list if element != element_to_remove]\n",
        "    return modified_list\n",
        "my_list = [1, 2, 3, 2, 4, 2, 5]\n",
        "element_to_remove = 2\n",
        "updated_list = remove_all_occurrences(my_list, element_to_remove)\n",
        "print(f\"Original list: {my_list}\")\n",
        "print(f\"Updated list: {updated_list}\")"
      ],
      "metadata": {
        "id": "PsDaSac6hjLf",
        "outputId": "45549c7e-572d-4164-ec5d-0414f485a158",
        "colab": {
          "base_uri": "https://localhost:8080/"
        }
      },
      "execution_count": 47,
      "outputs": [
        {
          "output_type": "stream",
          "name": "stdout",
          "text": [
            "Original list: [1, 2, 3, 2, 4, 2, 5]\n",
            "Updated list: [1, 3, 4, 5]\n"
          ]
        }
      ]
    }
  ]
}
